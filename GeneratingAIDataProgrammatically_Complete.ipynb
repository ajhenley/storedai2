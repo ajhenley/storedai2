{
 "cells": [
  {
   "cell_type": "code",
   "execution_count": 47,
   "id": "9900f886",
   "metadata": {},
   "outputs": [],
   "source": [
    "import json"
   ]
  },
  {
   "cell_type": "code",
   "execution_count": 5,
   "id": "cff29224",
   "metadata": {},
   "outputs": [
    {
     "name": "stdout",
     "output_type": "stream",
     "text": [
      "Password :········\n"
     ]
    }
   ],
   "source": [
    "#import libraries that will be needed and input password, so viewers can't see it\n",
    "\n",
    "import sqlalchemy\n",
    "from tqdm import tqdm\n",
    "import pandas as pd\n",
    "from bs4 import BeautifulSoup\n",
    "import markdown\n",
    "import getpass\n",
    "import psycopg2\n",
    "from openai import OpenAI  \n",
    "import os \n",
    "engine = sqlalchemy.create_engine('postgresql://postgres@localhost:5432/myonet')\n",
    "\n",
    "passwd = getpass.getpass(\"Password :\")"
   ]
  },
  {
   "cell_type": "code",
   "execution_count": 19,
   "id": "23bb00c5",
   "metadata": {},
   "outputs": [],
   "source": [
    "# Create 2 functions for working with the database\n",
    "#\n",
    "# getAllOccDataTitle - returns a result set of all the job names and job codes included in the ONet database\n",
    "# addRecord - adds a record to the database in the ai table for each set of generated data for a job\n",
    "\n",
    "def getJobData(jobcode):\n",
    "    # iterate with first subscript, second subscript is always 0\n",
    "    # x[341][0]\n",
    "    try:\n",
    "        connection = psycopg2.connect(user=\"postgres\",\n",
    "                                      password=passwd,\n",
    "                                      host=\"127.0.0.1\",\n",
    "                                      port=\"5432\",\n",
    "                                      database=\"myonet\")\n",
    "        cursor = connection.cursor()\n",
    "        sql_request_query = \"\"\" Select jobcode, jobname, industryjson, jobgroup, simoccsjson from jobdata_spanish where jobcode = %s\"\"\"\n",
    "        cursor.execute(sql_request_query, (jobcode,))        \n",
    "        z = cursor.fetchall()\n",
    "    except (Exception) as error:\n",
    "        print(\"Error in Update operation\", error)\n",
    "        return null\n",
    "    finally:\n",
    "        if connection:\n",
    "            cursor.close()\n",
    "            connection.close()\n",
    "            print(\"PostgreSQL connection is closed\")  \n",
    "    return (z)\n",
    "\n",
    "def getAllOccDataTitle():\n",
    "    # iterate with first subscript, second subscript is always 0\n",
    "    # x[341][0]\n",
    "    try:\n",
    "        connection = psycopg2.connect(user=\"postgres\",\n",
    "                                      password=passwd,\n",
    "                                      host=\"127.0.0.1\",\n",
    "                                      port=\"5432\",\n",
    "                                      database=\"myonet\")\n",
    "        cursor = connection.cursor()\n",
    "        sql_request_query = \"\"\" Select onetsoc_code, title, description from occupation_data\"\"\"\n",
    "        cursor.execute(sql_request_query, ())        \n",
    "        z = cursor.fetchall()\n",
    "    except (Exception) as error:\n",
    "        print(\"Error in Update operation\", error)\n",
    "        return null\n",
    "    finally:\n",
    "        if connection:\n",
    "            cursor.close()\n",
    "            connection.close()\n",
    "            print(\"PostgreSQL connection is closed\")  \n",
    "    return (z)\n",
    "\n",
    "def getWageData(onetsoc_code):\n",
    "    try:\n",
    "        connection = psycopg2.connect(user=\"altonhenley\",\n",
    "                                      password=passwd,\n",
    "                                      host=\"127.0.0.1\",\n",
    "                                      port=\"5432\",\n",
    "                                      database=\"altonhenley\")\n",
    "        cursor = connection.cursor()\n",
    "        sql_request_query = \"\"\" Select occ_code, occ_title, tot_emp, h_median, a_median, h_pct25, h_pct75, a_pct25, a_pct75, emp_prse\n",
    "    from wagedata w\n",
    "         where w.occ_code = %s\n",
    "           and naics = '000000'\n",
    "           and area_type = 1;\"\"\"\n",
    "#         print(onetsoc_code[0:7])\n",
    "        cursor.execute(sql_request_query, (onetsoc_code[0:7],))        \n",
    "        z = cursor.fetchall()\n",
    "#         print (z)\n",
    "    except (Exception) as error:\n",
    "        print(\"Error in Update operation\", error)\n",
    "        return null, null, null\n",
    "    finally:\n",
    "        if connection:\n",
    "            cursor.close()\n",
    "            connection.close()\n",
    "            print(\"PostgreSQL connection is closed\")  \n",
    "    return z[0][0], z[0][1], z[0][2].replace(',',''), z[0][3], z[0][4].replace(',',''), z[0][5], z[0][6], z[0][7].replace(',',''), z[0][8].replace(',',''), z[0][9]\n",
    "\n",
    "\n",
    "def addRecord(jobcode, jobname, longdescription, resume, pathway, steps):\n",
    "    try:\n",
    "        connection = psycopg2.connect(user=\"postgres\",\n",
    "                                      password=passwd,\n",
    "                                      host=\"127.0.0.1\",\n",
    "                                      port=\"5432\",\n",
    "                                      database=\"myonet\")    \n",
    "        cursor = connection.cursor()\n",
    "        sql_insert_query = \"\"\" INSERT INTO public.ai7(jobcode, jobname, longdescription, resume, pathway, steps) \n",
    "        VALUES (%s, %s, %s, %s, %s, %s); \n",
    "        \"\"\"\n",
    "        record_to_insert = (jobcode, jobname, longdescription, resume, pathway, steps)\n",
    "\n",
    "        cursor.execute(sql_insert_query,record_to_insert)\n",
    "        connection.commit()\n",
    "        count = cursor.rowcount\n",
    "#         print(count,\"Record inserted successfully into table.\")\n",
    "    except (Exception, psycopg2.Error) as error:\n",
    "        print(\"Failed to insert record into table\", error)\n",
    "    finally:\n",
    "        if connection:\n",
    "            cursor.close()\n",
    "            connection.close()\n",
    "            \n",
    "def addRecordDescription(jobcode, jobname, longdescription):\n",
    "    try:\n",
    "        connection = psycopg2.connect(user=\"postgres\",\n",
    "                                      password=passwd,\n",
    "                                      host=\"127.0.0.1\",\n",
    "                                      port=\"5432\",\n",
    "                                      database=\"myonet\")    \n",
    "        cursor = connection.cursor()\n",
    "        sql_insert_query = \"\"\" INSERT INTO public.ai8(jobcode, jobname, longdescription) \n",
    "        VALUES (%s, %s, %s); \n",
    "        \"\"\"\n",
    "        record_to_insert = (jobcode, jobname, longdescription)\n",
    "\n",
    "        cursor.execute(sql_insert_query,record_to_insert)\n",
    "        connection.commit()\n",
    "        count = cursor.rowcount\n",
    "#         print(count,\"Record inserted successfully into table.\")\n",
    "    except (Exception, psycopg2.Error) as error:\n",
    "        print(\"Failed to insert record into table\", error)\n",
    "    finally:\n",
    "        if connection:\n",
    "            cursor.close()\n",
    "            connection.close()"
   ]
  },
  {
   "cell_type": "code",
   "execution_count": 8,
   "id": "f8e34a24",
   "metadata": {},
   "outputs": [],
   "source": [
    "# Create functions for working with OpenAI API\n",
    "#\n",
    "# open_file - grabs data from a textfile (we use it to store the OpenAI API key to keep it secret)\n",
    "# ask - the base routine for sending a prompt to OpenAI and receiving the result, its hardwired to use model gpt-4o\n",
    "# askTerse - adds the position into a prompt asking for a short description and then passes that prompt to the ask function\n",
    "# askLong - adds the position into a prompt asking for a long description and then passes that prompt to the ask function\n",
    "# askPath - adds the position into a prompt asking for pathway and then passes that prompt to the ask function\n",
    "# askResume - adds the position into a prompt asking for a resume and then passes that prompt to the ask function\n",
    "\n",
    "def open_file(filepath):\n",
    "    with open(filepath, 'r', encoding='utf-8') as infile:\n",
    "        return infile.read()\n",
    "\n",
    "def ask (prompt):\n",
    "    key = open_file('openaiapikey.txt')\n",
    "    client = OpenAI(\n",
    "        # This is the default and can be omitted\n",
    "        api_key=key,\n",
    "    )\n",
    "    chat_completion = client.chat.completions.create(\n",
    "        messages=[\n",
    "            {\n",
    "                \"role\": \"user\",\n",
    "                \"content\": prompt,\n",
    "            }\n",
    "        ],\n",
    "        model=\"gpt-4o\",\n",
    "    )\n",
    "    text = chat_completion.choices[0].message.content\n",
    "    return text\n",
    "\n",
    "def askTerse(position):\n",
    "    terseask = 'Write a short description of what a [[jobtitle]] does'\n",
    "    terseask  = terseask.replace('[[jobtitle]]', position)\n",
    "    result = ask(terseask)\n",
    "    return result\n",
    "\n",
    "def askLong(position):\n",
    "    longask = 'Write an essay describing the job of a [[jobtitle]].'\n",
    "    longask  = longask.replace('[[jobtitle]]', position)\n",
    "    result = ask(longask)\n",
    "    return result\n",
    "\n",
    "def askPath (position):\n",
    "    prompt =   \"A career pathway is a list of the work experience, education, certifications and licenses, \"  \n",
    "    prompt +=  \"skills development, and professional development necessary to be qualified for a position. \" \n",
    "    prompt +=  \"these terms should be used as section titles. What is the career pathway for being a [[position]]? \" \n",
    "    prompt +=  \"None of the elements should be numbered. the section titles should be displayed as a header. \" \n",
    "    prompt +=  \"the elements within each section should be displayed as a bullet point with a bold title followed \"  \n",
    "    prompt +=  \"by a description format it using markdown\"\n",
    "    prompt = prompt.replace(\"[[position]]\", position)\n",
    "    pathtext = ask(prompt)\n",
    "    return pathtext\n",
    "\n",
    "def askResume(position):\n",
    "    query = \"Create a sample resume for someone looking for a job as [[position]] \"\n",
    "    resume = ask(query.replace(\"[[position]]\", position))\n",
    "    return resume\n",
    "\n",
    "def askHiring(jobname):\n",
    "    query = \"Make a list of the most likely employers in [[place]] of a person with a career as a [[position]]. Include the name of the orgamization followed by tilde and then a link to the url of its job site followed by a tilde and a link to the logo of that organization. Just produce the list with no extra verbiage and format it using markdown.\"\n",
    "    query = \"Make a list of 10 of the major companies, from different industries if possible, that need to hire people as the following occupation, show the name of the company followed by tilde and then a link to the url of its job site, just produce the list with no extra verbiage and format it using markdown: [[position]] \"\n",
    "    hiring = ask(query.replace(\"[[position]]\", jobname))\n",
    "    return hiring\n",
    "\n",
    "def justResume(text):\n",
    "    pos = text.find(\"<hr />\") + 8\n",
    "    endpos = text.rfind(\"<hr />\")\n",
    "    return text[pos:endpos]\n",
    "\n",
    "def askResume(position):\n",
    "    query = \"You are a career counselor for a workforce development board. Create a sample resume for someone looking for a job as [[position]] this resume should reflect suitable education, certifications, licenses and experience for someone eligible to land a job as a [[position]].  format it using markdown\"\n",
    "\n",
    "    resume = ask(query.replace(\"[[position]]\", position))\n",
    "    resume = markdown.markdown(resume)\n",
    "    resume = doBold(resume).replace(\"\\n\", \"\\r\\n\")\n",
    "    return justResume(resume)\n",
    "\n",
    "def askLong2(position):\n",
    "    longask = \"\"\"\n",
    "    You are a career navigator for a state college.\n",
    "    Write a detailed job description for a [[jobtitle]]. Write it in the style of a college essay. \n",
    "    The description should include the following sections: \n",
    "    What They Do, Job Responsibilities, Essential Skills, Educational Pathways, Career Prospects,\n",
    "    Conclusion. These terms should be used as section titles. It should be written in paragraph format.\n",
    "    Format it using markdown. \n",
    "    \"\"\"\n",
    "    longask  = longask.replace('[[jobtitle]]', position)\n",
    "    result = ask(longask)\n",
    "    return result\n",
    "\n",
    "def askLong2Spanish(position):\n",
    "    longask = \"\"\"\n",
    "    You are a career navigator for a state college.\n",
    "    Write a detailed job description for a [[jobtitle]]. Write it in the style of a college essay. \n",
    "    The description should include the following sections: \n",
    "    What They Do, Job Responsibilities, Essential Skills, Educational Pathways, Career Prospects,\n",
    "    Conclusion. These terms should be used as section titles. It should be written in paragraph format.\n",
    "    Format it using markdown. It should be written in spanish.\n",
    "    \"\"\"\n",
    "    longask  = longask.replace('[[jobtitle]]', position)\n",
    "    result = ask(longask)\n",
    "    return result\n",
    "\n",
    "def askDay(position):\n",
    "    query = \"write an essay covering a day in the work life of someone with the following occupation: [[position]] format it using markdown\"\n",
    "    day = ask(query.replace(\"[[position]]\", position))\n",
    "    return day\n",
    "\n",
    "def askDaySpanish(position):\n",
    "    query = \"write an essay covering a day in the work life of someone with the following occupation: [[position]] . format it using markdown. the entire thing should be in spanish\"\n",
    "    day = ask(query.replace(\"[[position]]\", position))\n",
    "    return day"
   ]
  },
  {
   "cell_type": "code",
   "execution_count": 17,
   "id": "6cdab843",
   "metadata": {},
   "outputs": [],
   "source": [
    "# the pathway prompt returns irregular results, this function normalizes the results\n",
    "\n",
    "def cleanPathway(pathway):\n",
    "    pathlist = []\n",
    "    errlist = []\n",
    "    flag = 0\n",
    "    path = markdown.markdown(pathway)\n",
    "    \n",
    "    path = path.replace(\"</strong><ul>\\n<li>\", \"</strong>\")\n",
    "    path = path.replace(\"</li>\\n</ul>\\n</li>\", \"</li>\")\n",
    "    path = path.replace(\"<h3>\",\"<h1>\").replace(\"</h3>\",\"</h1>\")\n",
    "    path = path.replace(\"<h2>\",\"<h1>\").replace(\"</h2>\",\"</h1>\")\n",
    "    path = path.replace(\"</strong></li>\\n<li>\", \"</strong>\")\n",
    "    path = path.replace(\"</strong>\\n</li>\\n<li>\", \"</strong>\")\n",
    "    path = path.replace(\"<p>\",\"\")\n",
    "    path = path.replace(\"</p>\",\"\")\n",
    "    path = path.replace(\"</li>\\n<li>\\n<strong>\",\"</li><li><strong>\")\n",
    "    path = path.replace(\"</strong>\\n</li>\\n<li>\",\"</strong> \")\n",
    "    path = path.replace(\"</h1>\\n<ul>\\n\",\"</h1><ul>\")\n",
    "    path = path.replace(\"</h1>\\n<ul>\",\"</h1><ul>\")\n",
    "    path = path.replace(\"</li>\\n<li>\",\" \")\n",
    "    path = path.replace(\"<strong>\",\"<li><strong>\")\n",
    "    path = path.replace(\"<li><li><strong>\",\"<li><strong>\")\n",
    "    path = path.replace(\"</strong>\",\": </strong>\")\n",
    "    path = path.replace(\":: </strong>\",\": </strong>\")\n",
    "    path = path.replace(\"\\n\",\"\")\n",
    "    path = path.replace(\"<ul><li><li>\", \"<ul><li>\")\n",
    "    path = path.replace(\"</strong>:\", \"</strong>\")\n",
    "    soup = BeautifulSoup(path) # If this line causes an error, run 'pip install html5lib' or install html5lib \n",
    "    unordereds = soup.findAll('ul')\n",
    "    for u in unordereds:\n",
    "        if 'education' in u.find_previous('h1').text.lower():\n",
    "            category = 'education'\n",
    "        elif 'work experience' in u.find_previous('h1').text.lower():\n",
    "            category = 'experience'\n",
    "        elif 'certification' in u.find_previous('h1').text.lower():\n",
    "            category = 'certification'\n",
    "        elif 'skills' in u.find_previous('h1').text.lower():\n",
    "            category = 'skills'\n",
    "        elif 'professional' in u.find_previous('h1').text.lower():\n",
    "            category = 'professional'\n",
    "\n",
    "        eds = u.findAll('li')\n",
    "        for e in eds:\n",
    "            try:\n",
    "                content = e.text\n",
    "                if content.find(\":\") > -1 :\n",
    "                    contents = content.split(\":\")\n",
    "                    item = contents[0]\n",
    "                    description = contents[1]\n",
    "                else:\n",
    "                    if content.find(\"\\n\") > -1:\n",
    "                        contents = content.split(\"\\n\")\n",
    "                        item = contents[0]\n",
    "                        description = contents[1]\n",
    "                    else:\n",
    "                        item = \"none\"\n",
    "                        description = content\n",
    "                        flag = 1\n",
    "            except Exception as error:\n",
    "                print(len(errlist),jobcode, \"---\", jobname)\n",
    "                print('type',type(e))\n",
    "                item = \"none\"\n",
    "                description = e\n",
    "                errrec = {\n",
    "                    'data': e,\n",
    "                    'error': error\n",
    "                }\n",
    "                errlist.append(errrec)\n",
    "            rec = {\n",
    "                'category': category,\n",
    "                'item': item,\n",
    "                'description': description\n",
    "            }\n",
    "            pathlist.append(rec)\n",
    "    return pathlist\n"
   ]
  },
  {
   "cell_type": "code",
   "execution_count": 35,
   "id": "e879cfb4",
   "metadata": {},
   "outputs": [
    {
     "name": "stdout",
     "output_type": "stream",
     "text": [
      "PostgreSQL connection is closed\n"
     ]
    },
    {
     "name": "stderr",
     "output_type": "stream",
     "text": [
      "100%|██████████| 1016/1016 [4:09:28<00:00, 14.73s/it] \n"
     ]
    }
   ],
   "source": [
    "# Loop through all jobnames in database and create long description, short description, resume and pathways for each\n",
    "\n",
    "joblist = []\n",
    "\n",
    "jobs = getAllOccDataTitle()\n",
    "for job in tqdm(jobs):\n",
    "    jobcode = job[0]\n",
    "    jobname = job[1]\n",
    "    long_description = askLong2(jobname) \n",
    "    long_description = markdown.markdown(long_description).replace(\"h3\",\"h4\").replace(\"h2\",\"h3\").replace(\"h1\",\"h2\")\n",
    "#     resume = askResume(jobname)\n",
    "#     pathway = askPath(jobname)\n",
    "#     steps=cleanPathway(pathway)\n",
    "\n",
    "    values_to_add = {\n",
    "        \"jobcode\": jobcode,\n",
    "        \"title\": jobname, \n",
    "        \"longdescription\": long_description\n",
    "#         \"pathway\": pathway,\n",
    "#         \"steps\": steps, \n",
    "#         \"resume\": resume\n",
    "    }       \n",
    "    joblist.append(values_to_add)\n",
    "#     addRecord(jobcode, jobname, long_description, resume, pathway, json.dumps(steps))"
   ]
  },
  {
   "cell_type": "code",
   "execution_count": 27,
   "id": "0fca1f57",
   "metadata": {
    "scrolled": true
   },
   "outputs": [
    {
     "data": {
      "text/plain": [
       "{'jobcode': '11-9121.02',\n",
       " 'title': 'Water Resource Specialists',\n",
       " 'longdescription': \"<h1>Water Resource Specialists Job Description</h1>\\n<h2>What They Do</h2>\\n<p>Water Resource Specialists are pivotal in the management, assessment, and protection of water resources. They play a crucial role in ensuring that water bodies such as lakes, rivers, and reservoirs are kept clean, safe, and sustainable for human use and ecological health. Their work often involves analyzing water quality data, assessing environmental impacts, and developing conservation plans. These specialists work with public and private sector organizations, helping to inform policy, guide resource management, and provide technical expertise.</p>\\n<h2>Job Responsibilities</h2>\\n<p>Water Resource Specialists are tasked with a variety of responsibilities aimed at maintaining and improving water quality and availability. They conduct water quality monitoring, sampling, and testing to detect pollutants and assess compliance with environmental regulations. They analyze data to track water resource trends and create detailed reports that inform stakeholders and policymakers. They also collaborate with environmental engineers, urban planners, and other professionals to develop strategies for water conservation and sustainable management. Developing and implementing educational programs to raise public awareness on water conservation issues is another important aspect of their role. Finally, they may be involved in emergency response planning, addressing issues such as contamination or droughts.</p>\\n<h2>Essential Skills</h2>\\n<p>To excel as a Water Resource Specialist, one must possess a strong foundation in environmental science and hydrology. Analytical skills are critical, as the role requires thorough data analysis to identify trends and solve complex problems. A keen attention to detail ensures accuracy in data collection and reporting. Effective communication skills are crucial for presenting findings and working collaboratively with diverse teams and stakeholders. Project management skills enable specialists to manage multiple tasks efficiently. Technical expertise in GIS (Geographic Information Systems) and other environmental modeling software is also highly beneficial.</p>\\n<h2>Educational Pathways</h2>\\n<p>A career as a Water Resource Specialist typically begins with a bachelor's degree in Environmental Science, Hydrology, Geology, Environmental Engineering, or a related field. Coursework should include studies on water chemistry, hydrology, ecology, and environmental laws and policies. Many employers prefer candidates with advanced degrees such as a Master's in Water Resources or Environmental Management, providing a deeper specialization and increased job prospects. Hands-on experience through internships or cooperative education programs is invaluable, offering practical skills and industry connections.</p>\\n<h2>Career Prospects</h2>\\n<p>The demand for Water Resource Specialists is expected to grow as awareness of environmental issues and the importance of sustainable resource management increases. Career opportunities span various sectors, including government agencies, non-profits, environmental consulting firms, and private corporations. Positions range from field technicians to senior analysts and project managers, with potential advancements into policy advisory roles or environmental consulting. Continued professional development and certifications, such as those from the American Water Resources Association (AWRA), can further enhance career prospects.</p>\\n<h2>Conclusion</h2>\\n<p>Water Resource Specialists play a fundamental role in preserving our planet’s most vital resource. Through a combination of scientific acumen, technical skill, and a commitment to environmental stewardship, they lead efforts to ensure the sustainability and quality of water resources for future generations. This career offers not only the opportunity to make a significant impact on the environment but also a diverse and evolving field with robust growth potential and numerous pathways for advancement.</p>\"}"
      ]
     },
     "execution_count": 27,
     "metadata": {},
     "output_type": "execute_result"
    }
   ],
   "source": [
    "joblist2 = []\n",
    "for job in joblist:\n",
    "    job['longdescription'] = markdown.markdown(job['longdescription'])\n",
    "    joblist2.append(job)\n",
    "    \n",
    "joblist2[45]"
   ]
  },
  {
   "cell_type": "code",
   "execution_count": 36,
   "id": "a7467081",
   "metadata": {},
   "outputs": [
    {
     "data": {
      "text/plain": [
       "{'jobcode': '15-2051.00',\n",
       " 'title': 'Data Scientists',\n",
       " 'longdescription': \"<h1>Data Scientist Job Description</h1>\\n<h2>What They Do</h2>\\n<p>Data Scientists play a crucial role in the intersection of technology and data by extracting actionable insights from complex datasets. They utilize statistical, mathematical, and computational techniques to analyze large volumes of data, uncovering patterns and trends that can help organizations make informed decisions. These professionals often work across various industries including finance, healthcare, technology, and retail, offering a quantitative foundation for strategic planning, problem-solving, and predicting future trends.</p>\\n<h2>Job Responsibilities</h2>\\n<p>The responsibilities of a Data Scientist can be diverse and dynamic, reflecting the needs of the organization they work for. Common tasks include:</p>\\n<ul>\\n<li>Collecting and cleaning data from various internal and external sources.</li>\\n<li>Applying statistical methods and machine learning algorithms to analyze data.</li>\\n<li>Building predictive models and performing scenario analysis.</li>\\n<li>Communicating findings through visualizations, reports, and presentations.</li>\\n<li>Collaborating with other departments such as engineering, marketing, and product development to implement data-driven solutions.</li>\\n<li>Continuously updating their skills to stay current with the latest technological advancements and industry trends.</li>\\n</ul>\\n<h2>Essential Skills</h2>\\n<p>Being a Data Scientist requires a robust set of skills:</p>\\n<ul>\\n<li><strong>Analytical Skills:</strong> Ability to make sense of complex datasets and derive useful insights.</li>\\n<li><strong>Programming:</strong> Proficiency in programming languages such as Python, R, and SQL.</li>\\n<li><strong>Statistical Knowledge:</strong> A deep understanding of statistical methods and how they apply to real-world data.</li>\\n<li><strong>Machine Learning:</strong> Experience with algorithms and models used for predictive analytics.</li>\\n<li><strong>Data Visualization:</strong> Skills in tools like Tableau, Power BI, or D3.js to present data in an understandable manner.</li>\\n<li><strong>Problem-Solving:</strong> Strong ability to approach problems with logical thinking and creativity.</li>\\n<li><strong>Communication:</strong> The ability to explain technical findings to non-technical stakeholders in a clear and concise manner.</li>\\n</ul>\\n<h2>Educational Pathways</h2>\\n<p>To become a Data Scientist, one typically follows a pathway that includes:</p>\\n<ul>\\n<li><strong>Bachelor’s Degree:</strong> In fields such as Computer Science, Statistics, Mathematics, or related areas.</li>\\n<li><strong>Advanced Degrees:</strong> Many Data Scientists hold a Master’s degree or Ph.D. in related fields, providing them with a deeper understanding of complex statistical and computational techniques.</li>\\n<li><strong>Certifications:</strong> Specialized certifications in data science, machine learning, or specific tools and technologies can be beneficial.</li>\\n<li><strong>Continued Learning:</strong> The field is rapidly evolving, so continued education through workshops, online courses, and attending industry conferences is crucial.</li>\\n</ul>\\n<h2>Career Prospects</h2>\\n<p>The demand for Data Scientists is rapidly growing and shows no signs of slowing down. With businesses increasingly relying on data-driven decision-making, Data Scientists can find opportunities in a variety of sectors including tech companies, financial institutions, healthcare organizations, government agencies, and startups. Entry-level positions such as Data Analyst can lead to higher-level roles such as Senior Data Scientist, Data Science Manager, or Chief Data Officer. The ability to affect strategic decision-making and drive innovation makes this career both lucrative and fulfilling.</p>\\n<h2>Conclusion</h2>\\n<p>Pursuing a career as a Data Scientist offers a unique blend of technical challenges and creative problem-solving opportunities. With a robust educational background and a diverse skill set, Data Scientists are pivotal in driving organizations towards data-driven success. Whether you're just starting your educational journey or looking to pivot careers, the role of Data Scientist promises a dynamic and rewarding career path.</p>\"}"
      ]
     },
     "execution_count": 36,
     "metadata": {},
     "output_type": "execute_result"
    }
   ],
   "source": [
    "joblist2[145]"
   ]
  },
  {
   "cell_type": "code",
   "execution_count": null,
   "id": "756bff37",
   "metadata": {},
   "outputs": [],
   "source": [
    "# Option 1\n",
    "# convert list of records into a datatable for export to excel\n",
    "df = pd.DataFrame.from_records(joblist) \n",
    "df.to_excel('excelexportfile.xlsx')"
   ]
  },
  {
   "cell_type": "code",
   "execution_count": 38,
   "id": "889e5af2",
   "metadata": {},
   "outputs": [
    {
     "name": "stderr",
     "output_type": "stream",
     "text": [
      "100%|██████████| 1016/1016 [00:36<00:00, 27.85it/s]\n"
     ]
    }
   ],
   "source": [
    "# Option 2\n",
    "# insert records directly into database\n",
    "for item in tqdm(joblist):\n",
    "    jobcode = item['jobcode']\n",
    "    jobname = item['title']\n",
    "    long_description = item[\"longdescription\"]\n",
    "#     short_description = item[\"shortdescription\"]\n",
    "#     resume = item[\"resume\"]\n",
    "#     pathway = item['pathway']\n",
    "#     steps   = json.dumps(item['steps'])\n",
    "#     addRecord(jobname, jobcode, long_description, short_description, resume, pathway, steps)\n",
    "    addRecordDescription(jobname, jobcode, long_description)"
   ]
  },
  {
   "cell_type": "code",
   "execution_count": 11,
   "id": "b8e41e49",
   "metadata": {},
   "outputs": [],
   "source": [
    "def askLong2(position):\n",
    "    longask = \"\"\"\n",
    "    You are a career navigator for a state college.\n",
    "    Write a detailed job description for a [[jobtitle]]. Write it in the style of a college essay. \n",
    "    The description should include the following sections: \n",
    "    What They Do, Job Responsibilities, Essential Skills, Educational Pathways, Career Prospects,\n",
    "    Conclusion. These terms should be used as section titles. It should be written in paragraph format.\n",
    "    Format it using markdown. \n",
    "    \"\"\"\n",
    "    longask  = longask.replace('[[jobtitle]]', position)\n",
    "    result = ask(longask)\n",
    "    return result\n",
    "\n",
    "def askLong2Spanish(position):\n",
    "    longask = \"\"\"\n",
    "    You are a career navigator for a state college.\n",
    "    Write a detailed job description for a [[jobtitle]]. Write it in the style of a college essay. \n",
    "    The description should include the following sections: \n",
    "    What They Do, Job Responsibilities, Essential Skills, Educational Pathways, Career Prospects,\n",
    "    Conclusion. These terms should be used as section titles. It should be written in paragraph format.\n",
    "    Format it using markdown. It should be written in spanish.\n",
    "    \"\"\"\n",
    "    longask  = longask.replace('[[jobtitle]]', position)\n",
    "    result = ask(longask)\n",
    "    return result"
   ]
  },
  {
   "cell_type": "code",
   "execution_count": 33,
   "id": "135b18b5",
   "metadata": {},
   "outputs": [
    {
     "data": {
      "text/plain": [
       "\"# Exploring the Role of a Data Scientist\\n\\n## What They Do\\n\\nIn the contemporary digital age, data has become the lifeblood of decision-making and innovation. Data Scientists, at the forefront of this transformation, are highly skilled professionals adept at extracting meaningful insights from vast amounts of data. Primarily, they apply statistical analysis, machine learning, and specialized algorithms to interpret data patterns that inform business strategy, scientific research, and public policy. They are the bridge between raw, unstructured data and strategic decision-making, making their role crucial in numerous industries.\\n\\n## Job Responsibilities\\n\\nThe responsibilities of Data Scientists are diverse and multidimensional. They begin with defining the problem that needs solving and translating it into a data-oriented question. Subsequently, they collect, clean, and preprocess data to ensure its quality and relevance. Utilizing advanced statistical techniques and machine learning models, they analyze this data, uncover hidden patterns, and generate predictive insights.\\n\\nData Scientists collaborate closely with cross-functional teams, including data engineers, analysts, and business stakeholders, to ensure their findings are integrated into the organization's goals. They create visualizations and dashboards that communicate complex insights in an understandable manner, enabling stakeholders to make data-driven decisions. Continuous refinement of models and algorithms is essential to adapt to changing data patterns and improve accuracy. Ethical considerations also play a crucial role in their work, ensuring data privacy and bias mitigation in their analyses.\\n\\n## Essential Skills\\n\\nA successful Data Scientist combines technical prowess with analytical thinking and effective communication. Proficiency in programming languages like Python or R, along with knowledge of SQL for database querying, is foundational. They must understand machine learning algorithms, statistical methods, and data preprocessing techniques. Tools such as TensorFlow, PyTorch, and scikit-learn are commonly employed to build and refine models.\\n\\nBeyond technical skills, Data Scientists must possess strong problem-solving abilities to frame the right questions and interpret the results accurately. Communication skills are vital for translating technical findings into actionable business insights. They need to be curious and continuously updated with the latest advancements in technology and methodologies, as the field of data science is rapidly evolving.\\n\\n## Educational Pathways\\n\\nThe educational journey to becoming a Data Scientist is rigorous and interdisciplinary. Typically, aspirants begin with a bachelor's degree in fields such as computer science, statistics, mathematics, or engineering. This foundational education provides essential knowledge in programming, algorithms, and statistical analysis.\\n\\nMany Data Scientists pursue advanced degrees—Master’s or PhDs—specializing in data science, artificial intelligence, or related fields. During their studies, they engage in coursework covering machine learning, data mining, big data technologies, and data visualization. Practical experience gained through internships, research projects, and competitions like Kaggle enhances their skills. Additionally, certifications from platforms such as Coursera, edX, and Udacity can supplement formal education and provide specialized knowledge in areas like deep learning and data engineering.\\n\\n## Career Prospects\\n\\nThe demand for Data Scientists is robust and burgeoning across various sectors, including finance, healthcare, technology, retail, and government. Organizations leverage data to gain competitive advantages, optimize operations, and innovate products and services, making Data Scientists invaluable assets. According to industry reports, the job market for Data Scientists is expected to continue its rapid growth, with lucrative salaries and opportunities for advancement.\\n\\nCareer pathways for Data Scientists are multifaceted. They can specialize in areas like machine learning engineering, data engineering, or business analytics. Leadership roles such as Chief Data Officer (CDO) or Director of Data Science are attainable with experience and proven expertise. Continuous learning and professional development open doors to innovative projects and cross-industry transfers, ensuring a dynamic and rewarding career.\\n\\n## Conclusion\\n\\nThe role of Data Scientists is integral to harnessing the transformative power of data in today’s world. Their ability to analyze complex datasets, derive meaningful insights, and drive strategic decisions makes them indispensable in various industries. Aspiring Data Scientists must cultivate a robust blend of technical skills, analytical acumen, and effective communication. With a solid educational foundation and a commitment to continuous learning, they can navigate a career path filled with growth, innovation, and impact. As the digital revolution progresses, the demand for Data Scientists will not only persist but flourish, offering a promising future for those venturing into this exciting field.\""
      ]
     },
     "execution_count": 33,
     "metadata": {},
     "output_type": "execute_result"
    }
   ],
   "source": [
    "b = askLong2('Data Scientists')\n",
    "b"
   ]
  },
  {
   "cell_type": "code",
   "execution_count": 34,
   "id": "07d8cd3a",
   "metadata": {},
   "outputs": [
    {
     "data": {
      "text/plain": [
       "\"<h2>Exploring the Role of a Data Scientist</h2>\\n<h3>What They Do</h3>\\n<p>In the contemporary digital age, data has become the lifeblood of decision-making and innovation. Data Scientists, at the forefront of this transformation, are highly skilled professionals adept at extracting meaningful insights from vast amounts of data. Primarily, they apply statistical analysis, machine learning, and specialized algorithms to interpret data patterns that inform business strategy, scientific research, and public policy. They are the bridge between raw, unstructured data and strategic decision-making, making their role crucial in numerous industries.</p>\\n<h3>Job Responsibilities</h3>\\n<p>The responsibilities of Data Scientists are diverse and multidimensional. They begin with defining the problem that needs solving and translating it into a data-oriented question. Subsequently, they collect, clean, and preprocess data to ensure its quality and relevance. Utilizing advanced statistical techniques and machine learning models, they analyze this data, uncover hidden patterns, and generate predictive insights.</p>\\n<p>Data Scientists collaborate closely with cross-functional teams, including data engineers, analysts, and business stakeholders, to ensure their findings are integrated into the organization's goals. They create visualizations and dashboards that communicate complex insights in an understandable manner, enabling stakeholders to make data-driven decisions. Continuous refinement of models and algorithms is essential to adapt to changing data patterns and improve accuracy. Ethical considerations also play a crucial role in their work, ensuring data privacy and bias mitigation in their analyses.</p>\\n<h3>Essential Skills</h3>\\n<p>A successful Data Scientist combines technical prowess with analytical thinking and effective communication. Proficiency in programming languages like Python or R, along with knowledge of SQL for database querying, is foundational. They must understand machine learning algorithms, statistical methods, and data preprocessing techniques. Tools such as TensorFlow, PyTorch, and scikit-learn are commonly employed to build and refine models.</p>\\n<p>Beyond technical skills, Data Scientists must possess strong problem-solving abilities to frame the right questions and interpret the results accurately. Communication skills are vital for translating technical findings into actionable business insights. They need to be curious and continuously updated with the latest advancements in technology and methodologies, as the field of data science is rapidly evolving.</p>\\n<h3>Educational Pathways</h3>\\n<p>The educational journey to becoming a Data Scientist is rigorous and interdisciplinary. Typically, aspirants begin with a bachelor's degree in fields such as computer science, statistics, mathematics, or engineering. This foundational education provides essential knowledge in programming, algorithms, and statistical analysis.</p>\\n<p>Many Data Scientists pursue advanced degrees—Master’s or PhDs—specializing in data science, artificial intelligence, or related fields. During their studies, they engage in coursework covering machine learning, data mining, big data technologies, and data visualization. Practical experience gained through internships, research projects, and competitions like Kaggle enhances their skills. Additionally, certifications from platforms such as Coursera, edX, and Udacity can supplement formal education and provide specialized knowledge in areas like deep learning and data engineering.</p>\\n<h3>Career Prospects</h3>\\n<p>The demand for Data Scientists is robust and burgeoning across various sectors, including finance, healthcare, technology, retail, and government. Organizations leverage data to gain competitive advantages, optimize operations, and innovate products and services, making Data Scientists invaluable assets. According to industry reports, the job market for Data Scientists is expected to continue its rapid growth, with lucrative salaries and opportunities for advancement.</p>\\n<p>Career pathways for Data Scientists are multifaceted. They can specialize in areas like machine learning engineering, data engineering, or business analytics. Leadership roles such as Chief Data Officer (CDO) or Director of Data Science are attainable with experience and proven expertise. Continuous learning and professional development open doors to innovative projects and cross-industry transfers, ensuring a dynamic and rewarding career.</p>\\n<h3>Conclusion</h3>\\n<p>The role of Data Scientists is integral to harnessing the transformative power of data in today’s world. Their ability to analyze complex datasets, derive meaningful insights, and drive strategic decisions makes them indispensable in various industries. Aspiring Data Scientists must cultivate a robust blend of technical skills, analytical acumen, and effective communication. With a solid educational foundation and a commitment to continuous learning, they can navigate a career path filled with growth, innovation, and impact. As the digital revolution progresses, the demand for Data Scientists will not only persist but flourish, offering a promising future for those venturing into this exciting field.</p>\""
      ]
     },
     "execution_count": 34,
     "metadata": {},
     "output_type": "execute_result"
    }
   ],
   "source": [
    "b = markdown.markdown(b).replace(\"h3\",\"h4\").replace(\"h2\",\"h3\").replace(\"h1\",\"h2\")\n",
    "b"
   ]
  },
  {
   "cell_type": "code",
   "execution_count": 49,
   "id": "f442106f",
   "metadata": {},
   "outputs": [],
   "source": [
    "jobcode = '00-0000.00'\n",
    "jobcode_summ = jobcode[0:5] + '00'"
   ]
  },
  {
   "cell_type": "code",
   "execution_count": 50,
   "id": "a49ce4ae",
   "metadata": {},
   "outputs": [
    {
     "name": "stdout",
     "output_type": "stream",
     "text": [
      "Error in Update operation connection to server at \"127.0.0.1\", port 5432 failed: FATAL:  password authentication failed for user \"altonhenley\"\n",
      "\n"
     ]
    },
    {
     "ename": "UnboundLocalError",
     "evalue": "cannot access local variable 'connection' where it is not associated with a value",
     "output_type": "error",
     "traceback": [
      "\u001b[1;31m---------------------------------------------------------------------------\u001b[0m",
      "\u001b[1;31mOperationalError\u001b[0m                          Traceback (most recent call last)",
      "Cell \u001b[1;32mIn[40], line 31\u001b[0m, in \u001b[0;36mgetWageData\u001b[1;34m(onetsoc_code)\u001b[0m\n\u001b[0;32m     30\u001b[0m \u001b[38;5;28;01mtry\u001b[39;00m:\n\u001b[1;32m---> 31\u001b[0m     connection \u001b[38;5;241m=\u001b[39m psycopg2\u001b[38;5;241m.\u001b[39mconnect(user\u001b[38;5;241m=\u001b[39m\u001b[38;5;124m\"\u001b[39m\u001b[38;5;124maltonhenley\u001b[39m\u001b[38;5;124m\"\u001b[39m,\n\u001b[0;32m     32\u001b[0m                                   password\u001b[38;5;241m=\u001b[39mpasswd,\n\u001b[0;32m     33\u001b[0m                                   host\u001b[38;5;241m=\u001b[39m\u001b[38;5;124m\"\u001b[39m\u001b[38;5;124m127.0.0.1\u001b[39m\u001b[38;5;124m\"\u001b[39m,\n\u001b[0;32m     34\u001b[0m                                   port\u001b[38;5;241m=\u001b[39m\u001b[38;5;124m\"\u001b[39m\u001b[38;5;124m5432\u001b[39m\u001b[38;5;124m\"\u001b[39m,\n\u001b[0;32m     35\u001b[0m                                   database\u001b[38;5;241m=\u001b[39m\u001b[38;5;124m\"\u001b[39m\u001b[38;5;124maltonhenley\u001b[39m\u001b[38;5;124m\"\u001b[39m)\n\u001b[0;32m     36\u001b[0m     cursor \u001b[38;5;241m=\u001b[39m connection\u001b[38;5;241m.\u001b[39mcursor()\n",
      "File \u001b[1;32m~\\AppData\\Roaming\\Python\\Python311\\site-packages\\psycopg2\\__init__.py:122\u001b[0m, in \u001b[0;36mconnect\u001b[1;34m(dsn, connection_factory, cursor_factory, **kwargs)\u001b[0m\n\u001b[0;32m    121\u001b[0m dsn \u001b[38;5;241m=\u001b[39m _ext\u001b[38;5;241m.\u001b[39mmake_dsn(dsn, \u001b[38;5;241m*\u001b[39m\u001b[38;5;241m*\u001b[39mkwargs)\n\u001b[1;32m--> 122\u001b[0m conn \u001b[38;5;241m=\u001b[39m _connect(dsn, connection_factory\u001b[38;5;241m=\u001b[39mconnection_factory, \u001b[38;5;241m*\u001b[39m\u001b[38;5;241m*\u001b[39mkwasync)\n\u001b[0;32m    123\u001b[0m \u001b[38;5;28;01mif\u001b[39;00m cursor_factory \u001b[38;5;129;01mis\u001b[39;00m \u001b[38;5;129;01mnot\u001b[39;00m \u001b[38;5;28;01mNone\u001b[39;00m:\n",
      "\u001b[1;31mOperationalError\u001b[0m: connection to server at \"127.0.0.1\", port 5432 failed: FATAL:  password authentication failed for user \"altonhenley\"\n",
      "\nDuring handling of the above exception, another exception occurred:\n",
      "\u001b[1;31mNameError\u001b[0m                                 Traceback (most recent call last)",
      "Cell \u001b[1;32mIn[40], line 48\u001b[0m, in \u001b[0;36mgetWageData\u001b[1;34m(onetsoc_code)\u001b[0m\n\u001b[0;32m     47\u001b[0m     \u001b[38;5;28mprint\u001b[39m(\u001b[38;5;124m\"\u001b[39m\u001b[38;5;124mError in Update operation\u001b[39m\u001b[38;5;124m\"\u001b[39m, error)\n\u001b[1;32m---> 48\u001b[0m     \u001b[38;5;28;01mreturn\u001b[39;00m null, null, null\n\u001b[0;32m     49\u001b[0m \u001b[38;5;28;01mfinally\u001b[39;00m:\n",
      "\u001b[1;31mNameError\u001b[0m: name 'null' is not defined",
      "\nDuring handling of the above exception, another exception occurred:\n",
      "\u001b[1;31mUnboundLocalError\u001b[0m                         Traceback (most recent call last)",
      "Cell \u001b[1;32mIn[50], line 1\u001b[0m\n\u001b[1;32m----> 1\u001b[0m getWageData(jobcode_summ)\n",
      "Cell \u001b[1;32mIn[40], line 50\u001b[0m, in \u001b[0;36mgetWageData\u001b[1;34m(onetsoc_code)\u001b[0m\n\u001b[0;32m     48\u001b[0m     \u001b[38;5;28;01mreturn\u001b[39;00m null, null, null\n\u001b[0;32m     49\u001b[0m \u001b[38;5;28;01mfinally\u001b[39;00m:\n\u001b[1;32m---> 50\u001b[0m     \u001b[38;5;28;01mif\u001b[39;00m connection:\n\u001b[0;32m     51\u001b[0m         cursor\u001b[38;5;241m.\u001b[39mclose()\n\u001b[0;32m     52\u001b[0m         connection\u001b[38;5;241m.\u001b[39mclose()\n",
      "\u001b[1;31mUnboundLocalError\u001b[0m: cannot access local variable 'connection' where it is not associated with a value"
     ]
    }
   ],
   "source": [
    "getWageData(jobcode_summ)"
   ]
  },
  {
   "cell_type": "code",
   "execution_count": 9,
   "id": "8a84ef98",
   "metadata": {},
   "outputs": [
    {
     "data": {
      "text/plain": [
       "\"```markdown\\n# Personal Chef: A Career Exploration\\n\\nIn today's fast-paced world, the demand for convenient, personalized dining experiences continues to grow. This trend has given rise to the profession of personal chefs, who cater to individual culinary preferences with an unmatched flair. This essay delves into the multifaceted world of personal chefs by exploring what they do, their job responsibilities, essential skills required, potential educational pathways, and the career prospects, concluding with a succinct overview of this intriguing profession.\\n\\n## What They Do\\n\\nA personal chef designs and prepares customized meals for individuals, families, or specific clientele. Unlike private chefs who work full-time for a family or household, personal chefs typically serve multiple clients and tailor their services to meet a diverse array of dietary requirements and taste preferences. Their primary role is to craft delicious and nutritious meals in the comfort of clients' homes or deliver pre-cooked meals, ensuring an intimate dining experience. Personal chefs often cater to special occasions, including dinner parties, birthdays, and anniversaries, providing not just food but a memorable culinary journey.\\n\\n## Job Responsibilities\\n\\nThe role of a personal chef is dynamic and varied. At its core, personal chefs are responsible for consulting with clients to understand their dietary needs, allergies, and culinary preferences. Upon understanding these personal nuances, they develop personalized menus and recipes that align with what the client desires. Further responsibilities include grocery shopping, ensuring the freshness and quality of ingredients, preparing meals in clients’ kitchens, and sometimes overseeing a kitchen team. In addition, personal chefs may offer consultations on kitchen design, nutritional guidance, and instructions on cooking techniques, broadening the scope of their interaction with clients.\\n\\n## Essential Skills\\n\\nBeing a successful personal chef requires a unique blend of culinary expertise and personal skills. Fundamentally, a chef must possess a deep knowledge of various cuisines and cooking techniques, as well as creative flair to innovate new dishes. Time management is crucial as personal chefs often juggle multiple tasks, from menu planning to meal preparation. Excellent interpersonal skills are essential for effective client consultation and service delivery, ensuring that the client feels heard and valued. Beyond these, adaptability, attention to detail, and nutritional knowledge are critical to tailoring meals that cater to specific health or dietary requirements.\\n\\n## Educational Pathways\\n\\nAspiring personal chefs have several pathways to consider. While formal education is not strictly necessary, a degree or a diploma in culinary arts from a reputable institution can provide a solid foundation and competitive edge. Programs typically cover a broad spectrum of culinary skills, including international cuisines, baking, nutrition, and kitchen management. Many personal chefs also gain hands-on experience through internships, apprenticeships, or working in professional kitchens to hone their skills. Continuous learning through workshops, courses, and certifications, such as those offered by culinary arts associations, can further enhance one's professional development.\\n\\n## Career Prospects\\n\\nThe profession of a personal chef offers a promising career path with diverse opportunities. As more individuals seek personalized culinary experiences, the demand for skilled personal chefs is projected to rise. Personal chefs can work independently, start their own business, or be part of culinary concierge services. In addition, they have the flexibility to create a work schedule that fits their lifestyle, choosing the clientele and projects that align with their expertise and interests. Moreover, the job can offer lucrative financial rewards, with rates varying based on experience, location, and the level of customization offered.\\n\\n## Conclusion\\n\\nIn conclusion, the career of a personal chef merges a love for cooking with personalized service, catering to the distinctive needs of clients in everyday dining and special occasions. The journey to becoming a successful personal chef involves mastering culinary skills, understanding client needs, and navigating independent work environments. As demand for personalized and gourmet food experiences increases, personal chefs are well-positioned to thrive in this growing industry, turning their passion for food into a rewarding profession.\\n```\\n\""
      ]
     },
     "execution_count": 9,
     "metadata": {},
     "output_type": "execute_result"
    }
   ],
   "source": [
    "eng = askLong2('Personal Chef')\n",
    "markdown.markdown(eng)"
   ]
  },
  {
   "cell_type": "code",
   "execution_count": 12,
   "id": "7f9647be",
   "metadata": {},
   "outputs": [
    {
     "data": {
      "text/plain": [
       "'# Descripción de Trabajo de un Chef Personal\\n\\n## Qué Hacen\\n\\nUn Chef Personal es un profesional culinario que se especializa en proporcionar experiencias gastronómicas personalizadas adaptadas a las necesidades y preferencias individuales de sus clientes. A diferencia de los chefs de restaurante, que cocinan para una clientela diversa, el Chef Personal se centra en crear menús únicos para individuos, familias, o grupos pequeños. Esto puede incluir la preparación de comidas diarias, la creación de menús para eventos especiales, o incluso ofrecer clases de cocina privadas. El objetivo principal es ofrecer una experiencia gastronómica que combine el arte culinario con un enfoque personalizado.\\n\\n## Responsabilidades del Trabajo\\n\\nLas responsabilidades de un Chef Personal son amplias y variadas, lo que requiere un enfoque meticuloso y creativo. En primer lugar, deben reunirse con los clientes para discutir sus necesidades dietéticas y preferencias culinarias. Basado en estas discusiones, desarrollan menús personalizados que pueden incluir restricciones dietéticas, como opciones veganas, sin gluten o bajas en carbohidratos. Posteriormente, el Chef Personal se encarga de la compra de ingredientes frescos y de alta calidad, asegurándose de seleccionar los mejores productos disponibles. La preparación y cocción son tareas centrales, pero también son responsables del emplatado y presentación de los platos. En muchos casos, también se encargan de limpiar y dejar el área de cocina impecable después de cada servicio.\\n\\n## Habilidades Esenciales\\n\\nPara sobresalir como Chef Personal, se requieren habilidades específicas que abarcan tanto el arte culinario como la gestión empresarial. En primer lugar, una habilidad culinaria excepcional es fundamental, incluyendo técnicas de cocina avanzada y un profundo conocimiento de diferentes tipos de cocina. La creatividad es esencial para poder desarrollar menús innovadores y atractivos. Las habilidades de comunicación también son cruciales, ya que un Chef Personal debe interactuar regularmente con los clientes para comprender y satisfacer sus expectativas. Además, deben tener habilidades organizativas excepcionales para manejar los pedidos y la planificación del menú, así como una capacidad impecable para la gestión del tiempo y la atención al detalle.\\n\\n## Caminos Educativos\\n\\nExisten varios caminos educativos para convertirse en Chef Personal, y aunque no siempre es necesario un título formal, la educación culinaria puede proporcionar una base sólida. Muchos chefs comienzan su carrera asistiendo a una escuela culinaria reconocida, donde obtienen un título en artes culinarias. Durante este tiempo, los estudiantes aprenden una variedad de técnicas culinarias, así como habilidades críticas de cocina y gestión. Además, obtener experiencia práctica a través de pasantías o trabajo en restaurantes es extremadamente beneficioso. Algunos chefs también optan por cursos especializados o certificaciones adicionales en nutrición o en un tipo específico de cocina para diversificar sus habilidades.\\n\\n## Perspectivas de Carrera\\n\\nLa carrera de Chef Personal ofrece perspectivas intrigantes y prometedoras, especialmente en un contexto en el que cada vez más individuos y familias buscan servicios personalizados para satisfacer sus necesidades dietéticas y gastronómicas. Según las tendencias actuales, la demanda de Chefs Personales está en aumento, en particular en áreas metropolitanas donde el ritmo de vida es acelerado y los clientes valoran la conveniencia de las comidas personalizadas en casa. Además, la creciente importancia de la salud y la nutrición en la vida moderna está impulsando la necesidad de servicios culinarios que puedan adaptarse a diversas dietas y estilos de vida. Con el tiempo y experiencia, un Chef Personal exitoso puede expandir su negocio, diversificarse en catering para eventos o incluso lanzar su propia línea de productos alimenticios.\\n\\n## Conclusión\\n\\nEn resumen, la profesión de Chef Personal es una carrera dinámica y creativa que ofrece la oportunidad de combinar la pasión por la cocina con el servicio personalizado al cliente. A través de la dedicación, la educación continua y la experiencia práctica, los Chefs Personales pueden construir una carrera satisfactoria y lucrativa que no solo deleita el paladar de los clientes, sino que también produce un impacto positivo en su estilo de vida. Para aquellos con un amor verdadero por la cocina y un deseo de ofrecer experiencias culinarias únicas, el camino del Chef Personal es uno abundante en oportunidades y recompensas.'"
      ]
     },
     "execution_count": 12,
     "metadata": {},
     "output_type": "execute_result"
    }
   ],
   "source": [
    "spa = askLong2Spanish('Personal Chef')\n",
    "spa"
   ]
  },
  {
   "cell_type": "code",
   "execution_count": 13,
   "id": "5c6c8304",
   "metadata": {},
   "outputs": [
    {
     "data": {
      "text/plain": [
       "\"<p>```markdown</p>\\n<h1>Personal Chef: A Career Exploration</h1>\\n<p>In today's fast-paced world, the demand for convenient, personalized dining experiences continues to grow. This trend has given rise to the profession of personal chefs, who cater to individual culinary preferences with an unmatched flair. This essay delves into the multifaceted world of personal chefs by exploring what they do, their job responsibilities, essential skills required, potential educational pathways, and the career prospects, concluding with a succinct overview of this intriguing profession.</p>\\n<h2>What They Do</h2>\\n<p>A personal chef designs and prepares customized meals for individuals, families, or specific clientele. Unlike private chefs who work full-time for a family or household, personal chefs typically serve multiple clients and tailor their services to meet a diverse array of dietary requirements and taste preferences. Their primary role is to craft delicious and nutritious meals in the comfort of clients' homes or deliver pre-cooked meals, ensuring an intimate dining experience. Personal chefs often cater to special occasions, including dinner parties, birthdays, and anniversaries, providing not just food but a memorable culinary journey.</p>\\n<h2>Job Responsibilities</h2>\\n<p>The role of a personal chef is dynamic and varied. At its core, personal chefs are responsible for consulting with clients to understand their dietary needs, allergies, and culinary preferences. Upon understanding these personal nuances, they develop personalized menus and recipes that align with what the client desires. Further responsibilities include grocery shopping, ensuring the freshness and quality of ingredients, preparing meals in clients’ kitchens, and sometimes overseeing a kitchen team. In addition, personal chefs may offer consultations on kitchen design, nutritional guidance, and instructions on cooking techniques, broadening the scope of their interaction with clients.</p>\\n<h2>Essential Skills</h2>\\n<p>Being a successful personal chef requires a unique blend of culinary expertise and personal skills. Fundamentally, a chef must possess a deep knowledge of various cuisines and cooking techniques, as well as creative flair to innovate new dishes. Time management is crucial as personal chefs often juggle multiple tasks, from menu planning to meal preparation. Excellent interpersonal skills are essential for effective client consultation and service delivery, ensuring that the client feels heard and valued. Beyond these, adaptability, attention to detail, and nutritional knowledge are critical to tailoring meals that cater to specific health or dietary requirements.</p>\\n<h2>Educational Pathways</h2>\\n<p>Aspiring personal chefs have several pathways to consider. While formal education is not strictly necessary, a degree or a diploma in culinary arts from a reputable institution can provide a solid foundation and competitive edge. Programs typically cover a broad spectrum of culinary skills, including international cuisines, baking, nutrition, and kitchen management. Many personal chefs also gain hands-on experience through internships, apprenticeships, or working in professional kitchens to hone their skills. Continuous learning through workshops, courses, and certifications, such as those offered by culinary arts associations, can further enhance one's professional development.</p>\\n<h2>Career Prospects</h2>\\n<p>The profession of a personal chef offers a promising career path with diverse opportunities. As more individuals seek personalized culinary experiences, the demand for skilled personal chefs is projected to rise. Personal chefs can work independently, start their own business, or be part of culinary concierge services. In addition, they have the flexibility to create a work schedule that fits their lifestyle, choosing the clientele and projects that align with their expertise and interests. Moreover, the job can offer lucrative financial rewards, with rates varying based on experience, location, and the level of customization offered.</p>\\n<h2>Conclusion</h2>\\n<p>In conclusion, the career of a personal chef merges a love for cooking with personalized service, catering to the distinctive needs of clients in everyday dining and special occasions. The journey to becoming a successful personal chef involves mastering culinary skills, understanding client needs, and navigating independent work environments. As demand for personalized and gourmet food experiences increases, personal chefs are well-positioned to thrive in this growing industry, turning their passion for food into a rewarding profession.\\n```</p>\""
      ]
     },
     "execution_count": 13,
     "metadata": {},
     "output_type": "execute_result"
    }
   ],
   "source": [
    "markdown.markdown(eng)"
   ]
  },
  {
   "cell_type": "code",
   "execution_count": 14,
   "id": "cd0ea84c",
   "metadata": {},
   "outputs": [
    {
     "data": {
      "text/plain": [
       "'<h1>Descripción de Trabajo de un Chef Personal</h1>\\n<h2>Qué Hacen</h2>\\n<p>Un Chef Personal es un profesional culinario que se especializa en proporcionar experiencias gastronómicas personalizadas adaptadas a las necesidades y preferencias individuales de sus clientes. A diferencia de los chefs de restaurante, que cocinan para una clientela diversa, el Chef Personal se centra en crear menús únicos para individuos, familias, o grupos pequeños. Esto puede incluir la preparación de comidas diarias, la creación de menús para eventos especiales, o incluso ofrecer clases de cocina privadas. El objetivo principal es ofrecer una experiencia gastronómica que combine el arte culinario con un enfoque personalizado.</p>\\n<h2>Responsabilidades del Trabajo</h2>\\n<p>Las responsabilidades de un Chef Personal son amplias y variadas, lo que requiere un enfoque meticuloso y creativo. En primer lugar, deben reunirse con los clientes para discutir sus necesidades dietéticas y preferencias culinarias. Basado en estas discusiones, desarrollan menús personalizados que pueden incluir restricciones dietéticas, como opciones veganas, sin gluten o bajas en carbohidratos. Posteriormente, el Chef Personal se encarga de la compra de ingredientes frescos y de alta calidad, asegurándose de seleccionar los mejores productos disponibles. La preparación y cocción son tareas centrales, pero también son responsables del emplatado y presentación de los platos. En muchos casos, también se encargan de limpiar y dejar el área de cocina impecable después de cada servicio.</p>\\n<h2>Habilidades Esenciales</h2>\\n<p>Para sobresalir como Chef Personal, se requieren habilidades específicas que abarcan tanto el arte culinario como la gestión empresarial. En primer lugar, una habilidad culinaria excepcional es fundamental, incluyendo técnicas de cocina avanzada y un profundo conocimiento de diferentes tipos de cocina. La creatividad es esencial para poder desarrollar menús innovadores y atractivos. Las habilidades de comunicación también son cruciales, ya que un Chef Personal debe interactuar regularmente con los clientes para comprender y satisfacer sus expectativas. Además, deben tener habilidades organizativas excepcionales para manejar los pedidos y la planificación del menú, así como una capacidad impecable para la gestión del tiempo y la atención al detalle.</p>\\n<h2>Caminos Educativos</h2>\\n<p>Existen varios caminos educativos para convertirse en Chef Personal, y aunque no siempre es necesario un título formal, la educación culinaria puede proporcionar una base sólida. Muchos chefs comienzan su carrera asistiendo a una escuela culinaria reconocida, donde obtienen un título en artes culinarias. Durante este tiempo, los estudiantes aprenden una variedad de técnicas culinarias, así como habilidades críticas de cocina y gestión. Además, obtener experiencia práctica a través de pasantías o trabajo en restaurantes es extremadamente beneficioso. Algunos chefs también optan por cursos especializados o certificaciones adicionales en nutrición o en un tipo específico de cocina para diversificar sus habilidades.</p>\\n<h2>Perspectivas de Carrera</h2>\\n<p>La carrera de Chef Personal ofrece perspectivas intrigantes y prometedoras, especialmente en un contexto en el que cada vez más individuos y familias buscan servicios personalizados para satisfacer sus necesidades dietéticas y gastronómicas. Según las tendencias actuales, la demanda de Chefs Personales está en aumento, en particular en áreas metropolitanas donde el ritmo de vida es acelerado y los clientes valoran la conveniencia de las comidas personalizadas en casa. Además, la creciente importancia de la salud y la nutrición en la vida moderna está impulsando la necesidad de servicios culinarios que puedan adaptarse a diversas dietas y estilos de vida. Con el tiempo y experiencia, un Chef Personal exitoso puede expandir su negocio, diversificarse en catering para eventos o incluso lanzar su propia línea de productos alimenticios.</p>\\n<h2>Conclusión</h2>\\n<p>En resumen, la profesión de Chef Personal es una carrera dinámica y creativa que ofrece la oportunidad de combinar la pasión por la cocina con el servicio personalizado al cliente. A través de la dedicación, la educación continua y la experiencia práctica, los Chefs Personales pueden construir una carrera satisfactoria y lucrativa que no solo deleita el paladar de los clientes, sino que también produce un impacto positivo en su estilo de vida. Para aquellos con un amor verdadero por la cocina y un deseo de ofrecer experiencias culinarias únicas, el camino del Chef Personal es uno abundante en oportunidades y recompensas.</p>'"
      ]
     },
     "execution_count": 14,
     "metadata": {},
     "output_type": "execute_result"
    }
   ],
   "source": [
    "markdown.markdown(spa)"
   ]
  },
  {
   "cell_type": "code",
   "execution_count": 23,
   "id": "2d431bbf",
   "metadata": {},
   "outputs": [
    {
     "name": "stdout",
     "output_type": "stream",
     "text": [
      "PostgreSQL connection is closed\n"
     ]
    }
   ],
   "source": [
    "z = getJobData('11-9041.00')\n",
    "jobcode = z[0][0]\n",
    "jobname = z[0][1]\n",
    "industryjson = z[0][2]\n",
    "jobgroup = z[0][3]\n",
    "simoccsjson = z[0][4] \n"
   ]
  },
  {
   "cell_type": "code",
   "execution_count": 24,
   "id": "c27f981e",
   "metadata": {},
   "outputs": [
    {
     "data": {
      "text/plain": [
       "'{ \"13-1082.00\" : \"Project Management Specialists\", \"17-2112.00\" : \"Industrial Engineers\", \"17-2071.00\" : \"Electrical Engineers\", \"13-1081.01\" : \"Logistics Engineers\", \"17-2199.05\" : \"Mechatronics Engineers\" }'"
      ]
     },
     "execution_count": 24,
     "metadata": {},
     "output_type": "execute_result"
    }
   ],
   "source": [
    "simoccsjson"
   ]
  },
  {
   "cell_type": "code",
   "execution_count": 25,
   "id": "6fcf130e",
   "metadata": {},
   "outputs": [
    {
     "data": {
      "text/plain": [
       "'Especialistas en gestión de proyectos'"
      ]
     },
     "execution_count": 25,
     "metadata": {},
     "output_type": "execute_result"
    }
   ],
   "source": [
    "ask(\"translate the following into spanish: Project Management Specialists\")"
   ]
  },
  {
   "cell_type": "code",
   "execution_count": null,
   "id": "4083acc6",
   "metadata": {},
   "outputs": [],
   "source": []
  }
 ],
 "metadata": {
  "kernelspec": {
   "display_name": "Python 3 (ipykernel)",
   "language": "python",
   "name": "python3"
  },
  "language_info": {
   "codemirror_mode": {
    "name": "ipython",
    "version": 3
   },
   "file_extension": ".py",
   "mimetype": "text/x-python",
   "name": "python",
   "nbconvert_exporter": "python",
   "pygments_lexer": "ipython3",
   "version": "3.11.7"
  }
 },
 "nbformat": 4,
 "nbformat_minor": 5
}
